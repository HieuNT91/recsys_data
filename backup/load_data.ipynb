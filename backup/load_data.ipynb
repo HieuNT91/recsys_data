{
 "cells": [
  {
   "cell_type": "code",
   "execution_count": 6,
   "metadata": {},
   "outputs": [],
   "source": [
    "import collections\n",
    "\n",
    "import torch\n",
    "\n",
    "from KGDataLoader import parse_args\n",
    "import numpy as np\n",
    "import os\n",
    "import random\n",
    "import time\n",
    "from copy import deepcopy\n",
    "\n",
    "import torch.nn as nn\n",
    "\n",
    "from env.hgnn import hgnn_env\n",
    "import logging "
   ]
  },
  {
   "cell_type": "markdown",
   "metadata": {},
   "source": [
    "### Trash"
   ]
  },
  {
   "cell_type": "code",
   "execution_count": 20,
   "metadata": {},
   "outputs": [],
   "source": [
    "def seed(random_seed):\n",
    "    torch.manual_seed(random_seed)\n",
    "    random.seed(random_seed)\n",
    "    np.random.seed(random_seed)\n",
    "\n",
    "def get_logger(logger_name, log_file, level=logging.INFO):\n",
    "    l = logging.getLogger(logger_name)\n",
    "    formatter = logging.Formatter('%(asctime)s : %(message)s', \"%Y-%m-%d %H:%M:%S\")\n",
    "    fileHandler = logging.FileHandler(log_file, mode='a')\n",
    "    fileHandler.setFormatter(formatter)\n",
    "\n",
    "    l.setLevel(level)\n",
    "    l.addHandler(fileHandler)\n",
    "\n",
    "    return logging.getLogger(logger_name)\n",
    "    \n",
    "class Args:\n",
    "    seed = 123\n",
    "    task = 'rec'\n",
    "    data_name = 'douban_movie'\n",
    "    data_dir = 'data/'\n",
    "    use_pretrain = 0\n",
    "    pretrain_embedding_dir = 'datasets/pretrain/'\n",
    "    cf_batch_size = 90000\n",
    "    kg_batch_size = 10000\n",
    "    nd_batch_size = 5000\n",
    "    rl_batch_size = 1\n",
    "    train_batch_size = 2000\n",
    "    test_batch_size = 20000\n",
    "    entity_dim = 64\n",
    "    relation_dim = 32\n",
    "    aggregation_type = 'bi-interaction'\n",
    "    cf_l2loss_lambda = 1e-5\n",
    "    lr = 0.01\n",
    "    mpset = \"[[['2', '1']], [['1', '2']]]\"\n",
    "    log = ''\n",
    "    num_heads = [4]\n",
    "    hidden_dim = 64\n",
    "\n",
    "seed(0)\n",
    "\n",
    "args=Args()\n",
    "infor = 'rl_' + str(args.data_name) + '_' + str(args.task) + '_' + str(args.log)\n",
    "model_name = 'model_' + infor + '.pth'\n",
    "dataset = args.data_name\n",
    "logger1 = get_logger('log', 'log/logger_' + infor + '.log')\n",
    "logger2 = get_logger('log2', 'log/logger2_' + infor + '.log')"
   ]
  },
  {
   "cell_type": "markdown",
   "metadata": {},
   "source": [
    "### Load Data"
   ]
  },
  {
   "cell_type": "code",
   "execution_count": 21,
   "metadata": {},
   "outputs": [],
   "source": [
    "env = hgnn_env(logger1, logger2, model_name, args, dataset=dataset)"
   ]
  },
  {
   "cell_type": "code",
   "execution_count": 22,
   "metadata": {},
   "outputs": [],
   "source": [
    "fr1 = open('./data/douban_movie/embedding/user.embedding_' + str(64), 'r')\n",
    "fr2 = open('./data/douban_movie/embedding/item.embedding_' + str(64), 'r')\n",
    "\n",
    "emb = env.train_data.x\n",
    "emb.requires_grad = False\n",
    "\n",
    "for line in fr1.readlines():\n",
    "    embeddings = line.strip().split()\n",
    "    id, embedding = int(embeddings[0]), embeddings[1:]\n",
    "    embedding = list(map(float, embedding))\n",
    "    emb[id] = torch.tensor(embedding)\n",
    "\n",
    "for line in fr2.readlines():\n",
    "    embeddings = line.strip().split()\n",
    "    id, embedding = int(embeddings[0]), embeddings[1:]\n",
    "    embedding = list(map(float, embedding))\n",
    "    emb[id] = torch.tensor(embedding)\n",
    "\n",
    "# emb.requires_grad = True\n",
    "env.train_data.x = emb.to('cpu')"
   ]
  },
  {
   "cell_type": "code",
   "execution_count": 31,
   "metadata": {},
   "outputs": [
    {
     "data": {
      "text/plain": [
       "torch.Size([37595, 64])"
      ]
     },
     "execution_count": 31,
     "metadata": {},
     "output_type": "execute_result"
    }
   ],
   "source": [
    "emb.shape"
   ]
  },
  {
   "cell_type": "code",
   "execution_count": 36,
   "metadata": {},
   "outputs": [
    {
     "data": {
      "text/plain": [
       "tensor([    0,     1,     2,  ..., 12674, 12675, 12676])"
      ]
     },
     "execution_count": 36,
     "metadata": {},
     "output_type": "execute_result"
    }
   ],
   "source": [
    "env.train_data.nodes('n0')"
   ]
  },
  {
   "cell_type": "code",
   "execution_count": null,
   "metadata": {},
   "outputs": [],
   "source": []
  }
 ],
 "metadata": {
  "kernelspec": {
   "display_name": "Python 3.8.13 ('cfil')",
   "language": "python",
   "name": "python3"
  },
  "language_info": {
   "codemirror_mode": {
    "name": "ipython",
    "version": 3
   },
   "file_extension": ".py",
   "mimetype": "text/x-python",
   "name": "python",
   "nbconvert_exporter": "python",
   "pygments_lexer": "ipython3",
   "version": "3.8.13"
  },
  "orig_nbformat": 4,
  "vscode": {
   "interpreter": {
    "hash": "21c731fbde3845cc416bfb5ae2926806a8b3329485f60478630f31d393cd0c24"
   }
  }
 },
 "nbformat": 4,
 "nbformat_minor": 2
}
